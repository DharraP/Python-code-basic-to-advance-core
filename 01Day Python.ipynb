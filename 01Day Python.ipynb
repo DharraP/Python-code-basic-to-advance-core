{
 "cells": [
  {
   "cell_type": "code",
   "execution_count": 2,
   "id": "01e1c8df",
   "metadata": {},
   "outputs": [
    {
     "name": "stdout",
     "output_type": "stream",
     "text": [
      "Hello World\n"
     ]
    }
   ],
   "source": [
    "print(\"if we are taking about function then thing about () automatic\")"
   ]
  },
  {
   "cell_type": "code",
   "execution_count": 3,
   "id": "fd03f5e2",
   "metadata": {},
   "outputs": [
    {
     "name": "stdout",
     "output_type": "stream",
     "text": [
      "Hello World\n"
     ]
    }
   ],
   "source": [
    "print('Hello World')"
   ]
  },
  {
   "cell_type": "markdown",
   "id": "3ad6eb23",
   "metadata": {},
   "source": [
    "the main diffrence b/w single '' and \"\" couts is u can use ''single couts in \"\" double but u can't use \"\"double in single"
   ]
  },
  {
   "cell_type": "markdown",
   "id": "5b9ddf32",
   "metadata": {},
   "source": [
    "# Data Types and Variables"
   ]
  },
  {
   "cell_type": "code",
   "execution_count": 5,
   "id": "aa0f8d00",
   "metadata": {},
   "outputs": [],
   "source": [
    "#int\n",
    "#str\n",
    "#bool\n",
    "#float\n"
   ]
  },
  {
   "cell_type": "code",
   "execution_count": 6,
   "id": "be0c0352",
   "metadata": {},
   "outputs": [],
   "source": [
    "x=5"
   ]
  },
  {
   "cell_type": "code",
   "execution_count": 7,
   "id": "3c0409a7",
   "metadata": {},
   "outputs": [
    {
     "name": "stdout",
     "output_type": "stream",
     "text": [
      "5\n"
     ]
    }
   ],
   "source": [
    "print(x)"
   ]
  },
  {
   "cell_type": "code",
   "execution_count": 8,
   "id": "fb8da128",
   "metadata": {},
   "outputs": [
    {
     "data": {
      "text/plain": [
       "int"
      ]
     },
     "execution_count": 8,
     "metadata": {},
     "output_type": "execute_result"
    }
   ],
   "source": [
    "type(x)"
   ]
  },
  {
   "cell_type": "code",
   "execution_count": 9,
   "id": "abb65cae",
   "metadata": {},
   "outputs": [],
   "source": [
    "# this is how we can check the data type and its variables using type ()"
   ]
  },
  {
   "cell_type": "code",
   "execution_count": 10,
   "id": "43991420",
   "metadata": {},
   "outputs": [
    {
     "name": "stdout",
     "output_type": "stream",
     "text": [
      "123\n"
     ]
    }
   ],
   "source": [
    "print('123')"
   ]
  },
  {
   "cell_type": "code",
   "execution_count": null,
   "id": "8b9e7e2d",
   "metadata": {},
   "outputs": [],
   "source": [
    "print(123)"
   ]
  },
  {
   "cell_type": "code",
   "execution_count": 11,
   "id": "2b53ea46",
   "metadata": {},
   "outputs": [
    {
     "data": {
      "text/plain": [
       "builtin_function_or_method"
      ]
     },
     "execution_count": 11,
     "metadata": {},
     "output_type": "execute_result"
    }
   ],
   "source": [
    "type(print)"
   ]
  },
  {
   "cell_type": "code",
   "execution_count": null,
   "id": "d9485bd6",
   "metadata": {},
   "outputs": [],
   "source": [
    "# any type of number word special char. is like 'asdas45432@___()!##$#@$' inclue in str if we use '' or \"\" "
   ]
  },
  {
   "cell_type": "code",
   "execution_count": 18,
   "id": "ecce7a57",
   "metadata": {},
   "outputs": [],
   "source": [
    "a='123'"
   ]
  },
  {
   "cell_type": "code",
   "execution_count": 19,
   "id": "3c0b643e",
   "metadata": {},
   "outputs": [
    {
     "name": "stdout",
     "output_type": "stream",
     "text": [
      "123\n"
     ]
    }
   ],
   "source": [
    "print(a)"
   ]
  },
  {
   "cell_type": "code",
   "execution_count": 20,
   "id": "cc4dcc94",
   "metadata": {},
   "outputs": [
    {
     "data": {
      "text/plain": [
       "str"
      ]
     },
     "execution_count": 20,
     "metadata": {},
     "output_type": "execute_result"
    }
   ],
   "source": [
    "type(a)"
   ]
  },
  {
   "cell_type": "code",
   "execution_count": 21,
   "id": "6b9defb4",
   "metadata": {},
   "outputs": [],
   "source": [
    "a=132"
   ]
  },
  {
   "cell_type": "code",
   "execution_count": 22,
   "id": "3c2a6f59",
   "metadata": {},
   "outputs": [
    {
     "data": {
      "text/plain": [
       "132"
      ]
     },
     "execution_count": 22,
     "metadata": {},
     "output_type": "execute_result"
    }
   ],
   "source": [
    "a"
   ]
  },
  {
   "cell_type": "code",
   "execution_count": 23,
   "id": "92d31c45",
   "metadata": {},
   "outputs": [
    {
     "data": {
      "text/plain": [
       "int"
      ]
     },
     "execution_count": 23,
     "metadata": {},
     "output_type": "execute_result"
    }
   ],
   "source": [
    "type(a)"
   ]
  },
  {
   "cell_type": "code",
   "execution_count": 24,
   "id": "3e918957",
   "metadata": {},
   "outputs": [],
   "source": [
    "# Floot\n"
   ]
  },
  {
   "cell_type": "code",
   "execution_count": 25,
   "id": "2377c0f8",
   "metadata": {},
   "outputs": [],
   "source": [
    "a=1.5"
   ]
  },
  {
   "cell_type": "code",
   "execution_count": 26,
   "id": "dda2ea6f",
   "metadata": {},
   "outputs": [
    {
     "name": "stdout",
     "output_type": "stream",
     "text": [
      "1.5\n"
     ]
    }
   ],
   "source": [
    "print(a)"
   ]
  },
  {
   "cell_type": "code",
   "execution_count": 27,
   "id": "96eb4223",
   "metadata": {},
   "outputs": [
    {
     "data": {
      "text/plain": [
       "float"
      ]
     },
     "execution_count": 27,
     "metadata": {},
     "output_type": "execute_result"
    }
   ],
   "source": [
    "type(a)"
   ]
  },
  {
   "cell_type": "code",
   "execution_count": 28,
   "id": "d62baac0",
   "metadata": {},
   "outputs": [],
   "source": [
    "# wap to add two numbers\n",
    "# wap to swap two numbers"
   ]
  },
  {
   "cell_type": "code",
   "execution_count": 29,
   "id": "c6dcb9c5",
   "metadata": {},
   "outputs": [
    {
     "name": "stdout",
     "output_type": "stream",
     "text": [
      "11\n"
     ]
    }
   ],
   "source": [
    "a=5\n",
    "b=6\n",
    "print(a+b)"
   ]
  },
  {
   "cell_type": "code",
   "execution_count": 35,
   "id": "aac85eaf",
   "metadata": {},
   "outputs": [
    {
     "name": "stdout",
     "output_type": "stream",
     "text": [
      "6 5\n"
     ]
    }
   ],
   "source": [
    "a=5\n",
    "b=6\n",
    "a,b=b,a\n",
    "print(a,b)"
   ]
  },
  {
   "cell_type": "code",
   "execution_count": 37,
   "id": "bea96c0f",
   "metadata": {},
   "outputs": [],
   "source": [
    "# this is how u can swap the two numbers without using thrird variable "
   ]
  },
  {
   "cell_type": "code",
   "execution_count": 38,
   "id": "a0654acb",
   "metadata": {},
   "outputs": [],
   "source": [
    "# wap to devide two numbers\n"
   ]
  },
  {
   "cell_type": "code",
   "execution_count": 39,
   "id": "7b8f221f",
   "metadata": {},
   "outputs": [
    {
     "name": "stdout",
     "output_type": "stream",
     "text": [
      "5.0\n"
     ]
    }
   ],
   "source": [
    "a=10\n",
    "b=2\n",
    "print(a/b)"
   ]
  },
  {
   "cell_type": "code",
   "execution_count": 40,
   "id": "7be3bccf",
   "metadata": {},
   "outputs": [],
   "source": [
    "# now if u want single value then use // this for the same let's see\n",
    "# this is how u can use the double this "
   ]
  },
  {
   "cell_type": "code",
   "execution_count": 42,
   "id": "1364b991",
   "metadata": {},
   "outputs": [
    {
     "name": "stdout",
     "output_type": "stream",
     "text": [
      "3\n"
     ]
    }
   ],
   "source": [
    "a=9\n",
    "b=3\n",
    "c=a//b\n",
    "print(c)"
   ]
  },
  {
   "cell_type": "code",
   "execution_count": 43,
   "id": "858c798c",
   "metadata": {},
   "outputs": [
    {
     "data": {
      "text/plain": [
       "0"
      ]
     },
     "execution_count": 43,
     "metadata": {},
     "output_type": "execute_result"
    }
   ],
   "source": [
    "# mod operaters\n",
    "a=9\n",
    "b=3\n",
    "c=a%b\n",
    "c"
   ]
  },
  {
   "cell_type": "code",
   "execution_count": 44,
   "id": "80e58cb0",
   "metadata": {},
   "outputs": [
    {
     "name": "stdout",
     "output_type": "stream",
     "text": [
      "this is me \n",
      "and lets \n",
      "code\n"
     ]
    }
   ],
   "source": [
    "print('''this is me \n",
    "and lets \n",
    "code''')"
   ]
  },
  {
   "cell_type": "code",
   "execution_count": 49,
   "id": "a1c958a8",
   "metadata": {},
   "outputs": [
    {
     "data": {
      "text/plain": [
       "61.666666666666664"
      ]
     },
     "execution_count": 49,
     "metadata": {},
     "output_type": "execute_result"
    }
   ],
   "source": [
    "a=50\n",
    "b=90\n",
    "c=45\n",
    "\n",
    "d=(a+b+c)/3\n",
    "d"
   ]
  },
  {
   "cell_type": "code",
   "execution_count": null,
   "id": "5fb1af07",
   "metadata": {},
   "outputs": [],
   "source": []
  }
 ],
 "metadata": {
  "kernelspec": {
   "display_name": "Python 3 (ipykernel)",
   "language": "python",
   "name": "python3"
  },
  "language_info": {
   "codemirror_mode": {
    "name": "ipython",
    "version": 3
   },
   "file_extension": ".py",
   "mimetype": "text/x-python",
   "name": "python",
   "nbconvert_exporter": "python",
   "pygments_lexer": "ipython3",
   "version": "3.9.12"
  }
 },
 "nbformat": 4,
 "nbformat_minor": 5
}
