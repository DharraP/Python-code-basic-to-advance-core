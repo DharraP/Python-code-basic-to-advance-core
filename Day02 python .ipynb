{
 "cells": [
  {
   "cell_type": "code",
   "execution_count": 1,
   "id": "9d224e0f",
   "metadata": {},
   "outputs": [],
   "source": [
    "# Data Types-->"
   ]
  },
  {
   "cell_type": "code",
   "execution_count": 13,
   "id": "1c421ee5",
   "metadata": {},
   "outputs": [
    {
     "data": {
      "text/plain": [
       "'hello hello '"
      ]
     },
     "execution_count": 13,
     "metadata": {},
     "output_type": "execute_result"
    }
   ],
   "source": [
    "a= \"hello \"\n",
    "b= a*2\n",
    "b"
   ]
  },
  {
   "cell_type": "code",
   "execution_count": 15,
   "id": "49f3f34c",
   "metadata": {},
   "outputs": [
    {
     "data": {
      "text/plain": [
       "47.5"
      ]
     },
     "execution_count": 15,
     "metadata": {},
     "output_type": "execute_result"
    }
   ],
   "source": [
    "a=10\n",
    "b=50\n",
    "c=60\n",
    "d=70\n",
    "e=(a+b+c+d)/4\n",
    "e"
   ]
  },
  {
   "cell_type": "code",
   "execution_count": 28,
   "id": "19f16505",
   "metadata": {},
   "outputs": [
    {
     "name": "stdout",
     "output_type": "stream",
     "text": [
      "75.0\n"
     ]
    }
   ],
   "source": [
    "# (obtain marks/total marks)*100\n",
    "\n",
    "sub1=30\n",
    "sub2=45\n",
    "total_marks=100\n",
    "obtain_marks=sub1+sub2\n",
    "per =(obtain_marks/total_marks)*100\n",
    "print(per)\n"
   ]
  },
  {
   "cell_type": "code",
   "execution_count": 3,
   "id": "34f63029",
   "metadata": {},
   "outputs": [],
   "source": [
    "# Now we have to learn how to take user input "
   ]
  },
  {
   "cell_type": "code",
   "execution_count": 4,
   "id": "940c8a11",
   "metadata": {},
   "outputs": [
    {
     "name": "stdout",
     "output_type": "stream",
     "text": [
      "Enter Your namePArul Dharra\n",
      "PArul Dharra\n"
     ]
    }
   ],
   "source": [
    "# so let's take input variable for the same\n",
    "x=input(\"Enter Your name\")\n",
    "print (x)"
   ]
  },
  {
   "cell_type": "code",
   "execution_count": 7,
   "id": "4f2df244",
   "metadata": {},
   "outputs": [
    {
     "name": "stdout",
     "output_type": "stream",
     "text": [
      "Enter number45\n",
      "Enter second number you want to add40\n",
      "85\n"
     ]
    }
   ],
   "source": [
    "#wap to add two number with the help of user input\n",
    "#this function we Called data type casting @@@@@@@@@@@@@@@@@@@@@@@@\n",
    "x=int (input(\"Enter number\"))\n",
    "y=int(input(\"Enter second number you want to add\"))\n",
    "z=(x)+(y)\n",
    "print(z)"
   ]
  },
  {
   "cell_type": "code",
   "execution_count": 8,
   "id": "c3c59a85",
   "metadata": {},
   "outputs": [
    {
     "name": "stdout",
     "output_type": "stream",
     "text": [
      "Enter number45\n",
      "Enter second number you want to add45\n",
      "4545\n"
     ]
    }
   ],
   "source": [
    "#we called this function as a concatenation\n",
    "x=(input(\"Enter number\"))\n",
    "y=(input(\"Enter second number you want to add\"))\n",
    "z=(x)+(y)\n",
    "print(z)"
   ]
  },
  {
   "cell_type": "code",
   "execution_count": 9,
   "id": "64c2e223",
   "metadata": {},
   "outputs": [],
   "source": [
    "# so now we check the operation how its work\n",
    "# if we use \n",
    "# str+str ------> str (concatenate)\n",
    "# int+int ------> maths operations\n",
    "# int+float ----> maths operations\n",
    "# int+str ------> Error susupported format + in int nd str"
   ]
  },
  {
   "cell_type": "code",
   "execution_count": 10,
   "id": "e7e1cae0",
   "metadata": {},
   "outputs": [
    {
     "name": "stdout",
     "output_type": "stream",
     "text": [
      "Enter Your number45\n",
      "Enter Your number48\n",
      "93.0\n"
     ]
    }
   ],
   "source": [
    "#this is how you can user % using user input.\n",
    "sub1=int(input(\"Enter Your number\"))\n",
    "sub2=int(input(\"Enter Your number\"))\n",
    "total_marks=100\n",
    "obtain_marks=sub1+sub2\n",
    "per =(obtain_marks/total_marks)*100\n",
    "print(per)"
   ]
  },
  {
   "cell_type": "code",
   "execution_count": null,
   "id": "35abd04e",
   "metadata": {},
   "outputs": [],
   "source": []
  }
 ],
 "metadata": {
  "kernelspec": {
   "display_name": "Python 3 (ipykernel)",
   "language": "python",
   "name": "python3"
  },
  "language_info": {
   "codemirror_mode": {
    "name": "ipython",
    "version": 3
   },
   "file_extension": ".py",
   "mimetype": "text/x-python",
   "name": "python",
   "nbconvert_exporter": "python",
   "pygments_lexer": "ipython3",
   "version": "3.9.12"
  }
 },
 "nbformat": 4,
 "nbformat_minor": 5
}
