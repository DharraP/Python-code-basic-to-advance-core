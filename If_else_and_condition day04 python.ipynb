{
 "cells": [
  {
   "cell_type": "code",
   "execution_count": 22,
   "id": "1c45e33c",
   "metadata": {},
   "outputs": [
    {
     "name": "stdout",
     "output_type": "stream",
     "text": [
      "Enter Number99\n",
      "no odd number\n"
     ]
    }
   ],
   "source": [
    "#wap to find odd and even number\n",
    "\n",
    "\n",
    "x=int(input(\"Enter Number\"))\n",
    "\n",
    "if (x%2)==0:\n",
    "    #we use ==0 bcoz we can devide any number by 2 with reminder but we dont want any reminder so we use this to avoid the \n",
    "    #reminder.\n",
    "    print(x,\" is the even number\")\n",
    "\n",
    "else:\n",
    "    print(\"no odd number\")\n",
    "    "
   ]
  },
  {
   "cell_type": "code",
   "execution_count": null,
   "id": "e94da220",
   "metadata": {},
   "outputs": [],
   "source": [
    "#wap to find a number which is devisiable by 2 & 5 but bot by 3."
   ]
  },
  {
   "cell_type": "code",
   "execution_count": 27,
   "id": "d2f30e5d",
   "metadata": {},
   "outputs": [
    {
     "name": "stdout",
     "output_type": "stream",
     "text": [
      "enter Number50\n",
      "50 is devided by 2&5\n"
     ]
    }
   ],
   "source": [
    "x=int(input(\"enter Number\"))\n",
    "\n",
    "if x%2==0 and x%5==0 and x%3 !=0:\n",
    "    print(x,\"is devided by 2&5\")\n",
    "    \n",
    "else:\n",
    "    print(\"not devided by 2&5\")"
   ]
  },
  {
   "cell_type": "code",
   "execution_count": null,
   "id": "14c3bec5",
   "metadata": {},
   "outputs": [],
   "source": []
  }
 ],
 "metadata": {
  "kernelspec": {
   "display_name": "Python 3 (ipykernel)",
   "language": "python",
   "name": "python3"
  },
  "language_info": {
   "codemirror_mode": {
    "name": "ipython",
    "version": 3
   },
   "file_extension": ".py",
   "mimetype": "text/x-python",
   "name": "python",
   "nbconvert_exporter": "python",
   "pygments_lexer": "ipython3",
   "version": "3.9.12"
  }
 },
 "nbformat": 4,
 "nbformat_minor": 5
}
