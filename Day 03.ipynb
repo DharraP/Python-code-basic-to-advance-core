{
 "cells": [
  {
   "cell_type": "code",
   "execution_count": 9,
   "id": "0aa2b875",
   "metadata": {},
   "outputs": [
    {
     "name": "stdout",
     "output_type": "stream",
     "text": [
      "Enter Your YOS6\n",
      "52500.0\n"
     ]
    }
   ],
   "source": [
    "#Question For basic \n",
    "\n",
    "yos=int(input(\"Enter Your YOS\"))\n",
    "sal=50000\n",
    "\n",
    "if yos>5:\n",
    "    bonus= (sal*5)/100\n",
    "    print(bonus+sal)\n",
    "        \n",
    "else:\n",
    "    print(\"no Bonus\")\n",
    "    \n",
    "    "
   ]
  },
  {
   "cell_type": "code",
   "execution_count": null,
   "id": "bcfcc66e",
   "metadata": {},
   "outputs": [],
   "source": []
  },
  {
   "cell_type": "code",
   "execution_count": null,
   "id": "e9816185",
   "metadata": {},
   "outputs": [],
   "source": []
  }
 ],
 "metadata": {
  "kernelspec": {
   "display_name": "Python 3 (ipykernel)",
   "language": "python",
   "name": "python3"
  },
  "language_info": {
   "codemirror_mode": {
    "name": "ipython",
    "version": 3
   },
   "file_extension": ".py",
   "mimetype": "text/x-python",
   "name": "python",
   "nbconvert_exporter": "python",
   "pygments_lexer": "ipython3",
   "version": "3.9.12"
  }
 },
 "nbformat": 4,
 "nbformat_minor": 5
}
