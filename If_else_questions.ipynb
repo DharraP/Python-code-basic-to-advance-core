{
 "cells": [
  {
   "cell_type": "code",
   "execution_count": 6,
   "id": "f57908cd",
   "metadata": {},
   "outputs": [
    {
     "name": "stdout",
     "output_type": "stream",
     "text": [
      "vote\n"
     ]
    }
   ],
   "source": [
    "#first question if \n",
    "# And what if we want to print first time voter if he is 18 \n",
    "# this is how u can use elif and there is 2 condition using elif 1. first use if condition then use elif otherwise its not working \n",
    "# 2.elif always use b/w if and else condition\n",
    "\n",
    "age=19\n",
    "\n",
    "if age>18:\n",
    "    print(\"vote\")\n",
    "elif age==18:\n",
    "    print(\"first time voter\")\n",
    "    \n",
    "else:\n",
    "     print(\"No Vote\")"
   ]
  },
  {
   "cell_type": "code",
   "execution_count": 2,
   "id": "479f3cef",
   "metadata": {},
   "outputs": [
    {
     "name": "stdout",
     "output_type": "stream",
     "text": [
      "vote\n"
     ]
    }
   ],
   "source": [
    "# so if we have a condition like the candiate age is = to 18 then what we get and what we have to do\n",
    "\n",
    "age =18\n",
    "if age>=18:\n",
    "    print(\"vote\")\n",
    "else:\n",
    "    print(\"no vote\")\n",
    "    \n",
    "# so this is how we can use if our candiate have the same age"
   ]
  },
  {
   "cell_type": "code",
   "execution_count": 12,
   "id": "a4610c0b",
   "metadata": {},
   "outputs": [
    {
     "name": "stdout",
     "output_type": "stream",
     "text": [
      "Enter YOS6\n",
      "50000\n",
      "52500.0\n"
     ]
    }
   ],
   "source": [
    "# 1.!!!!!!!!!!!!!!!!!Question!!!!!!!!!!!!!!!!!!!!!!\n",
    "yos=int(input(\"Enter YOS\"))\n",
    "sal=50000\n",
    "\n",
    "if yos>=5:\n",
    "    bonous=(sal*5)/100\n",
    "    print(sal)\n",
    "    print(bonous+sal)\n",
    "\n",
    "    \n",
    "else:\n",
    "    print(\"no bonus\")\n",
    "\n",
    "\n"
   ]
  },
  {
   "cell_type": "code",
   "execution_count": 19,
   "id": "d8efa8ac",
   "metadata": {},
   "outputs": [
    {
     "name": "stdout",
     "output_type": "stream",
     "text": [
      "Enter length5\n",
      "Enter breath6\n",
      "not square\n"
     ]
    }
   ],
   "source": [
    "# 2.!!!!!!!!!!!!!!!!!!!Question!!!!!!!!!!!!!!!!!!!!\n",
    "\n",
    "l = int(input(\"Enter length\"))\n",
    "b = int(input(\"Enter breath\"))\n",
    "\n",
    "if l==b:\n",
    "    print(\"its a square\")\n",
    "else:\n",
    "    print(\"not square\")"
   ]
  },
  {
   "cell_type": "code",
   "execution_count": 38,
   "id": "c983379d",
   "metadata": {},
   "outputs": [
    {
     "name": "stdout",
     "output_type": "stream",
     "text": [
      "Enter the value99\n",
      "Enter the value55\n",
      "Enter the value100\n",
      "99 55 100 this is smallest\n"
     ]
    }
   ],
   "source": [
    "# 3.!!!!!!!!!!!!!!!!!!!Question!!!!!!!!!!!!!!!!!!\n",
    "\n",
    "x=int(input(\"Enter the value\"))\n",
    "y=int(input(\"Enter the value\"))\n",
    "z=int(input(\"Enter the value\"))\n",
    "\n",
    "if x>y>z and y>x>z:\n",
    "    print(x,\"this value is grater than\",y,z)\n",
    "elif z<x<y:\n",
    "    print (y,\"is the grater value than\",x,z)\n",
    "else:\n",
    "    print(x,y,z,\"this is smallest\")"
   ]
  },
  {
   "cell_type": "code",
   "execution_count": null,
   "id": "8f70a89e",
   "metadata": {},
   "outputs": [],
   "source": []
  }
 ],
 "metadata": {
  "kernelspec": {
   "display_name": "Python 3 (ipykernel)",
   "language": "python",
   "name": "python3"
  },
  "language_info": {
   "codemirror_mode": {
    "name": "ipython",
    "version": 3
   },
   "file_extension": ".py",
   "mimetype": "text/x-python",
   "name": "python",
   "nbconvert_exporter": "python",
   "pygments_lexer": "ipython3",
   "version": "3.9.12"
  }
 },
 "nbformat": 4,
 "nbformat_minor": 5
}
