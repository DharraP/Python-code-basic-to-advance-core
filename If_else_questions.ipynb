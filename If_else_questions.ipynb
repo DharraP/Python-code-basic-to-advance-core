
    # first question if \n",
    # And what if we want to print first time voter if he is 18 \n",
    # this is how u can use elif and there is 2 condition using elif 1. first use if condition then use elif otherwise its not working \n",
    # 2.elif always use b/w if and else condition\n",
   
    age=19
    
    if age>18:\
        print(\"vote\")
    elif age==18:\
        print(\"first time voter\")
       
    else:
         print("No Vote")
   
   
    # so if we have a condition like the candiate age is = to 18 then what we get and what we have to 

    age =18\
    if age>=18:
        print(\"vote\")
    else:\n",
        print(\"no vote\")
        \n",
    # so this is how we can use if our candiate have the same age"
   
  
  
   
 
    # 1.!!!!!!!!!!!!!!!!!Question!!!!!!!!!!!!!!!!!!!!!!
    yos=int(input(\"Enter YOS\"))
    sal=50000
    
    if yos>=5:
        bonous=(sal*5)/100
        print(sal)
       print(bonous+sal)
  

    else:
       print(\"no bonus\")
   
    
     
 
    # 2.!!!!!!!!!!!!!!!!!!!Question!!!!!!!!!!!!!!!!!!!!
  
    l = int(input(\"Enter length\"))
    b = int(input(\"Enter breath\"))
   
    if l==b:
        print(\"its a square\")
    else:
        print("not square")
   ]
  
    # 3.!!!!!!!!!!!!!!!!!!!Question!!!!!!!!!!!!!!!!!!
    ,
    x=int(input(\"Enter the value\"))
    y=int(input(\"Enter the value\"))
    z=int(input(\"Enter the value\"))
    
    if x>y>z and y>x>z:\n",
        print(x,\"this value is grater than\",y,z)",
    elif z<x<y:",
        print (y,\"is the grater value than\",x,z)\n",
    else:\n",
        print(x,y,z,\"this is smallest\")"
   


