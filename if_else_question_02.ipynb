{
 "cells": [
  {
   "cell_type": "code",
   "execution_count": 23,
   "id": "a41281e2",
   "metadata": {},
   "outputs": [
    {
     "name": "stdout",
     "output_type": "stream",
     "text": [
      "Enter your qty5\n",
      "no dis\n"
     ]
    }
   ],
   "source": [
    "#!!!!!!!!!!!!!!!!!Question!!!!!!!!!!!!!!!!!\n",
    "#wap to give 10%of dis if user amount is more then1000 else no discount. \n",
    "qty=int(input(\"Enter your qty\"))\n",
    "price=100\n",
    "x=qty*price\n",
    "\n",
    "\n",
    "if x>1000:\n",
    "    z=(x/10)\n",
    "    print(z,\"this is dis amount of ur total shopping \")\n",
    "    print(\"vaild for dis\")\n",
    "elif z>1000:\n",
    "    print(\"this is the dis\")\n",
    "    \n",
    "    \n",
    "else:\n",
    "    print(\"no dis\")"
   ]
  },
  {
   "cell_type": "code",
   "execution_count": 34,
   "id": "1bbdbdb3",
   "metadata": {},
   "outputs": [
    {
     "name": "stdout",
     "output_type": "stream",
     "text": [
      "Enter your marks100\n",
      "A+\n"
     ]
    }
   ],
   "source": [
    "#!!!!!!!!!!!QUestion!!!!!!!!!!!!!!!!!!!\n",
    "#wap to grade the student by user input.\n",
    "\n",
    "# below=25-f\n",
    "# 25-45=E\n",
    "# 45-50=D\n",
    "# 50-60=C\n",
    "# 60-80=B\n",
    "# 80-90=A\n",
    "# 90+=A+\n",
    "\n",
    "\n",
    "std=int(input(\"Enter your marks\"))\n",
    "\n",
    "if std<=25:\n",
    "    print(\"F\")\n",
    "elif std>=26 and std<=45:\n",
    "    print(\"E\")\n",
    "elif std>=46 and std<=50:\n",
    "    print(\"D\")\n",
    "elif std>=51 and std<=60:\n",
    "    print(\"C\")\n",
    "elif std>=61 and std<=80:\n",
    "    print(\"B\")\n",
    "elif std>=81 and std<=90:\n",
    "    print(\"A\")\n",
    "elif std>=99 and std<=100:\n",
    "    print(\"A+\")\n",
    "else:\n",
    "    (\"you dont have any grade\")"
   ]
  },
  {
   "cell_type": "code",
   "execution_count": 36,
   "id": "9227b1a8",
   "metadata": {},
   "outputs": [
    {
     "ename": "SyntaxError",
     "evalue": "invalid syntax (4077261580.py, line 11)",
     "output_type": "error",
     "traceback": [
      "\u001b[1;36m  Input \u001b[1;32mIn [36]\u001b[1;36m\u001b[0m\n\u001b[1;33m    elif rohit<ankit and rohit<utkrash and ankit<rohit and ankit<utkrash and utkrash<rohit and utkrash<ankit\u001b[0m\n\u001b[1;37m                                                                                                            ^\u001b[0m\n\u001b[1;31mSyntaxError\u001b[0m\u001b[1;31m:\u001b[0m invalid syntax\n"
     ]
    }
   ],
   "source": [
    "#!!!!!!!!!!!!!!!!!!!Question!!!!!!!!!!!!!!!!!\n",
    "#wap to find youngest and oldest by user input \n",
    "\n",
    "\n",
    "rohit=int(input(\"Enter your age\"))\n",
    "ankit=int(input(\"Enter your age\"))\n",
    "utkrash=int(input(\"Enter your age\"))\n",
    "\n",
    "if rohit>ankit and rohit>utkrash and ankit>rohit and ankit>utkrash and utkrash>rohit and utkrash>ankit :\n",
    "    print(\"he is oldest\")\n",
    "elif rohit<ankit and rohit<utkrash and ankit<rohit and ankit<utkrash and utkrash<rohit and utkrash<ankit\n",
    "    print(\"ankit is oldest\")\n",
    "else:\n",
    "    print(\"nothing\")"
   ]
  },
  {
   "cell_type": "code",
   "execution_count": null,
   "id": "784b61e0",
   "metadata": {},
   "outputs": [],
   "source": []
  }
 ],
 "metadata": {
  "kernelspec": {
   "display_name": "Python 3 (ipykernel)",
   "language": "python",
   "name": "python3"
  },
  "language_info": {
   "codemirror_mode": {
    "name": "ipython",
    "version": 3
   },
   "file_extension": ".py",
   "mimetype": "text/x-python",
   "name": "python",
   "nbconvert_exporter": "python",
   "pygments_lexer": "ipython3",
   "version": "3.9.12"
  }
 },
 "nbformat": 4,
 "nbformat_minor": 5
}
